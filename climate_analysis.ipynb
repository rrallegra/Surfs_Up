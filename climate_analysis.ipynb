{
 "cells": [
  {
   "cell_type": "markdown",
   "metadata": {},
   "source": [
    "# Climate Analysis"
   ]
  },
  {
   "cell_type": "code",
   "execution_count": null,
   "metadata": {
    "collapsed": true
   },
   "outputs": [],
   "source": [
    "# Import dependencies\n",
    "\n",
    "import pandas as pd\n",
    "import numpy as np\n",
    "\n",
    "from sqlalchemy.ext.automap import automap_base\n",
    "from sqlalchemy.orm import Session\n",
    "from sqlalchemy import create_engine, func, inspect, desc\n",
    "from sqlalchemy import Column, Integer, String, Float, ForeignKey,func\n",
    "from sqlalchemy.sql import label\n",
    "from sqlalchemy import and_\n",
    "\n",
    "from flask import Flask, jsonify\n",
    "\n",
    "import matplotlib.pyplot as plt\n",
    "import datetime as dt\n",
    "\n",
    "import seaborn as sns\n",
    "import random\n",
    "import os"
   ]
  },
  {
   "cell_type": "code",
   "execution_count": 4,
   "metadata": {
    "collapsed": true
   },
   "outputs": [],
   "source": [
    "# Connect to sqlite database\n",
    "engine = create_engine(\"sqlite:///hawaii.sqlite\")\n",
    "conn = engine.connect()"
   ]
  },
  {
   "cell_type": "code",
   "execution_count": 5,
   "metadata": {},
   "outputs": [
    {
     "data": {
      "text/plain": [
       "['measurement',\n",
       " 'measurements',\n",
       " 'st',\n",
       " 'stan',\n",
       " 'stat',\n",
       " 'station',\n",
       " 'station_house',\n",
       " 'stations',\n",
       " 'stations_nu',\n",
       " 'stn']"
      ]
     },
     "execution_count": 5,
     "metadata": {},
     "output_type": "execute_result"
    }
   ],
   "source": [
    "# Reflect tables into classes\n",
    "Base = automap_base()\n",
    "Base.prepare(engine, reflect=True)\n",
    "\n",
    "# Print all classes mapped to the Base\n",
    "Base.classes.keys()"
   ]
  },
  {
   "cell_type": "code",
   "execution_count": 6,
   "metadata": {
    "collapsed": true
   },
   "outputs": [],
   "source": [
    "Measurements = Base.classes.measurements\n",
    "Stations = Base.classes.stations"
   ]
  },
  {
   "cell_type": "code",
   "execution_count": 7,
   "metadata": {
    "collapsed": true
   },
   "outputs": [],
   "source": [
    "session = Session(bind = engine)"
   ]
  },
  {
   "cell_type": "code",
   "execution_count": 8,
   "metadata": {},
   "outputs": [
    {
     "data": {
      "text/plain": [
       "['measurement',\n",
       " 'measurements',\n",
       " 'st',\n",
       " 'stan',\n",
       " 'stat',\n",
       " 'station',\n",
       " 'station_house',\n",
       " 'stations',\n",
       " 'stations_nu',\n",
       " 'stn']"
      ]
     },
     "execution_count": 8,
     "metadata": {},
     "output_type": "execute_result"
    }
   ],
   "source": [
    "# Get table names for each table\n",
    "inspector = inspect(engine)\n",
    "inspector.get_table_names()"
   ]
  },
  {
   "cell_type": "raw",
   "metadata": {},
   "source": [
    "# Precipitation Anlysis"
   ]
  },
  {
   "cell_type": "code",
   "execution_count": 9,
   "metadata": {},
   "outputs": [
    {
     "data": {
      "text/html": [
       "<div>\n",
       "<style>\n",
       "    .dataframe thead tr:only-child th {\n",
       "        text-align: right;\n",
       "    }\n",
       "\n",
       "    .dataframe thead th {\n",
       "        text-align: left;\n",
       "    }\n",
       "\n",
       "    .dataframe tbody tr th {\n",
       "        vertical-align: top;\n",
       "    }\n",
       "</style>\n",
       "<table border=\"1\" class=\"dataframe\">\n",
       "  <thead>\n",
       "    <tr style=\"text-align: right;\">\n",
       "      <th></th>\n",
       "      <th>precipitation</th>\n",
       "    </tr>\n",
       "    <tr>\n",
       "      <th>date</th>\n",
       "      <th></th>\n",
       "    </tr>\n",
       "  </thead>\n",
       "  <tbody>\n",
       "    <tr>\n",
       "      <th>2016-12-01</th>\n",
       "      <td>0.12</td>\n",
       "    </tr>\n",
       "    <tr>\n",
       "      <th>2016-12-02</th>\n",
       "      <td>0.03</td>\n",
       "    </tr>\n",
       "    <tr>\n",
       "      <th>2016-12-03</th>\n",
       "      <td>0.00</td>\n",
       "    </tr>\n",
       "    <tr>\n",
       "      <th>2016-12-04</th>\n",
       "      <td>0.03</td>\n",
       "    </tr>\n",
       "    <tr>\n",
       "      <th>2016-12-05</th>\n",
       "      <td>0.43</td>\n",
       "    </tr>\n",
       "    <tr>\n",
       "      <th>2016-12-06</th>\n",
       "      <td>0.02</td>\n",
       "    </tr>\n",
       "    <tr>\n",
       "      <th>2016-12-07</th>\n",
       "      <td>0.00</td>\n",
       "    </tr>\n",
       "    <tr>\n",
       "      <th>2016-12-08</th>\n",
       "      <td>0.03</td>\n",
       "    </tr>\n",
       "    <tr>\n",
       "      <th>2016-12-09</th>\n",
       "      <td>0.52</td>\n",
       "    </tr>\n",
       "    <tr>\n",
       "      <th>2016-12-10</th>\n",
       "      <td>0.05</td>\n",
       "    </tr>\n",
       "  </tbody>\n",
       "</table>\n",
       "</div>"
      ],
      "text/plain": [
       "            precipitation\n",
       "date                     \n",
       "2016-12-01           0.12\n",
       "2016-12-02           0.03\n",
       "2016-12-03           0.00\n",
       "2016-12-04           0.03\n",
       "2016-12-05           0.43\n",
       "2016-12-06           0.02\n",
       "2016-12-07           0.00\n",
       "2016-12-08           0.03\n",
       "2016-12-09           0.52\n",
       "2016-12-10           0.05"
      ]
     },
     "execution_count": 9,
     "metadata": {},
     "output_type": "execute_result"
    }
   ],
   "source": [
    "# Query for 12 months of data and set index\n",
    "dates = session.query(Measurements.date, Measurements.prcp).filter(and_(\n",
    "    Measurements.date <= '2017-12-01', Measurements.date >= '2016-12-01')).all()\n",
    "dates_df = pd.DataFrame(dates)\n",
    "dates_df.set_index(\"date\", inplace = True)\n",
    "dates_df = dates_df.rename(columns={'prcp': 'precipitation'})\n",
    "\n",
    "dates_df.head(10)"
   ]
  },
  {
   "cell_type": "code",
   "execution_count": 21,
   "metadata": {},
   "outputs": [
    {
     "data": {
      "text/plain": [
       "<matplotlib.figure.Figure at 0x2bc49318cc0>"
      ]
     },
     "metadata": {},
     "output_type": "display_data"
    },
    {
     "data": {
      "text/plain": [
       "<matplotlib.figure.Figure at 0x2bc4908d860>"
      ]
     },
     "metadata": {},
     "output_type": "display_data"
    },
    {
     "data": {
      "image/png": "[encoded data removed]",
      "text/plain": [
       "<matplotlib.figure.Figure at 0x2bc48fa1e48>"
      ]
     },
     "metadata": {},
     "output_type": "display_data"
    }
   ],
   "source": [
    "dates_df.plot(figsize = (11,8), rot = 45, color=\"#398bd2\")\n",
    "plt.ylabel('Precipitation')\n",
    "plt.xlabel('Date')\n",
    "plt.title('Precipitation Analysis')\n",
    "plt.show()"
   ]
  },
  {
   "cell_type": "code",
   "execution_count": 15,
   "metadata": {},
   "outputs": [
    {
     "data": {
      "text/html": [
       "<div>\n",
       "<style>\n",
       "    .dataframe thead tr:only-child th {\n",
       "        text-align: right;\n",
       "    }\n",
       "\n",
       "    .dataframe thead th {\n",
       "        text-align: left;\n",
       "    }\n",
       "\n",
       "    .dataframe tbody tr th {\n",
       "        vertical-align: top;\n",
       "    }\n",
       "</style>\n",
       "<table border=\"1\" class=\"dataframe\">\n",
       "  <thead>\n",
       "    <tr style=\"text-align: right;\">\n",
       "      <th></th>\n",
       "      <th>precipitation</th>\n",
       "    </tr>\n",
       "  </thead>\n",
       "  <tbody>\n",
       "    <tr>\n",
       "      <th>count</th>\n",
       "      <td>1445.000000</td>\n",
       "    </tr>\n",
       "    <tr>\n",
       "      <th>mean</th>\n",
       "      <td>0.170062</td>\n",
       "    </tr>\n",
       "    <tr>\n",
       "      <th>std</th>\n",
       "      <td>0.441790</td>\n",
       "    </tr>\n",
       "    <tr>\n",
       "      <th>min</th>\n",
       "      <td>0.000000</td>\n",
       "    </tr>\n",
       "    <tr>\n",
       "      <th>25%</th>\n",
       "      <td>0.000000</td>\n",
       "    </tr>\n",
       "    <tr>\n",
       "      <th>50%</th>\n",
       "      <td>0.010000</td>\n",
       "    </tr>\n",
       "    <tr>\n",
       "      <th>75%</th>\n",
       "      <td>0.120000</td>\n",
       "    </tr>\n",
       "    <tr>\n",
       "      <th>max</th>\n",
       "      <td>6.250000</td>\n",
       "    </tr>\n",
       "  </tbody>\n",
       "</table>\n",
       "</div>"
      ],
      "text/plain": [
       "       precipitation\n",
       "count    1445.000000\n",
       "mean        0.170062\n",
       "std         0.441790\n",
       "min         0.000000\n",
       "25%         0.000000\n",
       "50%         0.010000\n",
       "75%         0.120000\n",
       "max         6.250000"
      ]
     },
     "execution_count": 15,
     "metadata": {},
     "output_type": "execute_result"
    }
   ],
   "source": [
    "# Summary Statistics\n",
    "dates_df.describe()"
   ]
  },
  {
   "cell_type": "code",
   "execution_count": null,
   "metadata": {
    "collapsed": true
   },
   "outputs": [],
   "source": [
    "# Station Analysis"
   ]
  },
  {
   "cell_type": "code",
   "execution_count": 22,
   "metadata": {},
   "outputs": [
    {
     "data": {
      "text/plain": [
       "9"
      ]
     },
     "execution_count": 22,
     "metadata": {},
     "output_type": "execute_result"
    }
   ],
   "source": [
    "# Number of Stations and station actvity\n",
    "number_stations = session.query(Stations.station).group_by(Stations.station).count()\n",
    "number_stations"
   ]
  },
  {
   "cell_type": "code",
   "execution_count": 11,
   "metadata": {},
   "outputs": [
    {
     "data": {
      "text/plain": [
       "[('WAIHEE 837.5, HI US', 'USC00519281', 2772),\n",
       " ('KANEOHE 838.1, HI US', 'USC00513117', 2696),\n",
       " ('WAIKIKI 717.2, HI US', 'USC00519397', 2685),\n",
       " ('WAIMANALO EXPERIMENTAL FARM, HI US', 'USC00519523', 2572),\n",
       " ('MANOA LYON ARBO 785.2, HI US', 'USC00516128', 2484),\n",
       " ('KUALOA RANCH HEADQUARTERS 886.9, HI US', 'USC00514830', 1937),\n",
       " ('HONOLULU OBSERVATORY 702.2, HI US', 'USC00511918', 1932),\n",
       " ('PEARL CITY, HI US', 'USC00517948', 683),\n",
       " ('UPPER WAHIAWA 874.3, HI US', 'USC00518838', 342)]"
      ]
     },
     "execution_count": 11,
     "metadata": {},
     "output_type": "execute_result"
    }
   ],
   "source": [
    "active_stations = session.query(Stations.name, Measurements.station, func.count(Measurements.tobs)).filter(Stations.station == Measurements.station).group_by(Measurements.station).order_by(func.count(Measurements.tobs).desc()).all()\n",
    "active_stations"
   ]
  },
  {
   "cell_type": "code",
   "execution_count": 23,
   "metadata": {},
   "outputs": [
    {
     "data": {
      "text/plain": [
       "<matplotlib.figure.Figure at 0x2bc490a9e80>"
      ]
     },
     "metadata": {},
     "output_type": "display_data"
    },
    {
     "data": {
      "image/png": "[encoded data removed]",
      "text/plain": [
       "<matplotlib.figure.Figure at 0x2bc4943d2e8>"
      ]
     },
     "metadata": {},
     "output_type": "display_data"
    }
   ],
   "source": [
    "most_high = \"USC00519281\"\n",
    "most_active = session.query(Measurements.tobs).filter(Measurements.date >= \"2016-12-01\").filter(Measurements.station == most_high).all()\n",
    "\n",
    "most_active_df = pd.DataFrame(most_active)\n",
    "\n",
    "plt.figure(figsize=(12,10))\n",
    "most_active_df.plot.hist(bins=12,color=\"#398bd2\")\n",
    "\n",
    "# most_active_df.plot.hist(bins=12,color=\"#398bd2\")\n",
    "plt.grid(color='grey', linestyle='-', linewidth=2, alpha=0.5)\n",
    "plt.ylabel(\"Frequency\")\n",
    "plt.xlabel(\"Temperature (F)\")\n",
    "plt.title(\"Station Analysis - Frequency of temperatures over 12 Months\")\n",
    "plt.show()\n"
   ]
  },
  {
   "cell_type": "code",
   "execution_count": 21,
   "metadata": {
    "collapsed": true
   },
   "outputs": [],
   "source": [
    "# Temperature Analysis"
   ]
  },
  {
   "cell_type": "code",
   "execution_count": 22,
   "metadata": {
    "collapsed": true
   },
   "outputs": [],
   "source": [
    "# Choose start and end dates for trip"
   ]
  },
  {
   "cell_type": "code",
   "execution_count": 28,
   "metadata": {
    "collapsed": true
   },
   "outputs": [],
   "source": [
    "# sd - start date / ed - end date \n",
    "def calc_temps(sd, ed):\n",
    "    \n",
    "    max_temp = session.query(func.max(Measurements.tobs)).filter(Measurements.date <= ed).filter(Measurements.date >= sd).scalar()\n",
    "    avg_temp = session.query(func.avg(Measurements.tobs)).filter(Measurements.date <= ed).filter(Measurements.date >= sd).scalar()\n",
    "    min_temp = session.query(func.min(Measurements.tobs)).filter(Measurements.date <= ed).filter(Measurements.date >= sd).scalar()\n",
    "    \n",
    "    return {'max_temp': max_temp,'avg_temp': avg_temp, 'min_temp': min_temp}\n",
    "                       "
   ]
  },
  {
   "cell_type": "code",
   "execution_count": 84,
   "metadata": {},
   "outputs": [
    {
     "name": "stdout",
     "output_type": "stream",
     "text": [
      "Enter Start date in the format y-m-d: 2016-12-01\n",
      "Enter End date in the format y-m-d: 2017-12-01\n",
      "2016-12-01 00:00:00   2017-12-01 00:00:00\n"
     ]
    }
   ],
   "source": [
    "start_date = datetime.datetime.strptime(input('Enter Start date in the format y-m-d: '), '%Y-%m-%d')\n",
    "end_date = datetime.datetime.strptime(input('Enter End date in the format y-m-d: '), '%Y-%m-%d')\n",
    "print(start_date, \" \", end_date)"
   ]
  },
  {
   "cell_type": "code",
   "execution_count": 85,
   "metadata": {},
   "outputs": [
    {
     "data": {
      "text/plain": [
       "{'avg_temp': 73.67060458651842, 'max_temp': 87.0, 'min_temp': 58.0}"
      ]
     },
     "execution_count": 85,
     "metadata": {},
     "output_type": "execute_result"
    }
   ],
   "source": [
    "temp_stats = calc_temps(start_date, end_date)\n",
    "temp_stats"
   ]
  },
  {
   "cell_type": "code",
   "execution_count": null,
   "metadata": {
    "collapsed": true
   },
   "outputs": [],
   "source": [
    "# Climate App - create a bar plot"
   ]
  },
  {
   "cell_type": "code",
   "execution_count": 86,
   "metadata": {},
   "outputs": [
    {
     "data": {
      "text/plain": [
       "Text(0.5,1,'Trip Average Temperature')"
      ]
     },
     "execution_count": 86,
     "metadata": {},
     "output_type": "execute_result"
    }
   ],
   "source": [
    "plt.figure(figsize=(2,5))\n",
    "plt.bar(1, width = .1, height = temp_stats['avg_temp'], yerr = int(temp_stats['max_temp'])-int(temp_stats['min_temp']),color=\"#efbaa1\")\n",
    "plt.ylabel('Temp(F)')\n",
    "plt.title('Trip Average Temperature')"
   ]
  },
  {
   "cell_type": "code",
   "execution_count": 41,
   "metadata": {},
   "outputs": [
    {
     "data": {
      "image/png": "[encoded data removed]",
      "text/plain": [
       "<matplotlib.figure.Figure at 0x2bc4945e550>"
      ]
     },
     "metadata": {},
     "output_type": "display_data"
    }
   ],
   "source": [
    "plt.show()"
   ]
  },
  {
   "cell_type": "code",
   "execution_count": null,
   "metadata": {
    "collapsed": true
   },
   "outputs": [],
   "source": [
    "# Climate App - Flask API"
   ]
  },
  {
   "cell_type": "code",
   "execution_count": 96,
   "metadata": {
    "collapsed": true
   },
   "outputs": [],
   "source": [
    "#Start Flask application\n",
    "from flask import Flask, jsonify\n",
    "app = Flask(__name__)"
   ]
  },
  {
   "cell_type": "code",
   "execution_count": 99,
   "metadata": {},
   "outputs": [
    {
     "name": "stderr",
     "output_type": "stream",
     "text": [
      " * Restarting with stat\n"
     ]
    },
    {
     "ename": "SystemExit",
     "evalue": "1",
     "output_type": "error",
     "traceback": [
      "An exception has occurred, use %tb to see the full traceback.\n",
      "\u001b[1;31mSystemExit\u001b[0m\u001b[1;31m:\u001b[0m 1\n"
     ]
    },
    {
     "name": "stderr",
     "output_type": "stream",
     "text": [
      "C:\\Users\\PC\\Anaconda3\\lib\\site-packages\\IPython\\core\\interactiveshell.py:2870: UserWarning: To exit: use 'exit', 'quit', or Ctrl-D.\n",
      "  warn(\"To exit: use 'exit', 'quit', or Ctrl-D.\", stacklevel=1)\n"
     ]
    }
   ],
   "source": [
    "@app.route(\"/\")\n",
    "def Welcome():\n",
    "    return(\n",
    "        f\"Available routes!</br>\"\n",
    "        f\"/api.v1.0/precipitation</br>\"\n",
    "        f\"/api/v1.0/stations</br>\"\n",
    "        f\"/api/v1.0/tobs</br>\"\n",
    "        f\"/api/v1.0/<start><br>\"\n",
    "        f\"/api/v1.0/<start>/<end>\"\n",
    "     )\n",
    "\n",
    "if __name__ == '__main__':\n",
    "    app.run(debug=True)\n",
    "    "
   ]
  },
  {
   "cell_type": "code",
   "execution_count": 100,
   "metadata": {},
   "outputs": [
    {
     "name": "stderr",
     "output_type": "stream",
     "text": [
      " * Restarting with stat\n"
     ]
    },
    {
     "ename": "SystemExit",
     "evalue": "1",
     "output_type": "error",
     "traceback": [
      "An exception has occurred, use %tb to see the full traceback.\n",
      "\u001b[1;31mSystemExit\u001b[0m\u001b[1;31m:\u001b[0m 1\n"
     ]
    },
    {
     "name": "stderr",
     "output_type": "stream",
     "text": [
      "C:\\Users\\PC\\Anaconda3\\lib\\site-packages\\IPython\\core\\interactiveshell.py:2870: UserWarning: To exit: use 'exit', 'quit', or Ctrl-D.\n",
      "  warn(\"To exit: use 'exit', 'quit', or Ctrl-D.\", stacklevel=1)\n"
     ]
    }
   ],
   "source": [
    "# Return precipitation information of previous year\n",
    "\n",
    "@app.route(\"/api.v1.0/precipitation\")\n",
    "def precip():\n",
    "    \n",
    "    query = session.query(Measurement.date, func.sum(Measurement.prcp).label(\"prcp\")). \\\n",
    "    group_by(Measurement.date).order_by(Measurement.id.desc()).limit(365).all()\n",
    "\n",
    "    precipitation = []\n",
    "    for rain_drop in query:\n",
    "        drop_top = {}\n",
    "        drop_top[\"Date\"] = rain_drop.date\n",
    "        drop_top[\"Total Precip\"] = rain_drop.prcp\n",
    "        precipitation.append(drop_top)\n",
    "\n",
    "    return jsonify(precipitation)\n",
    "\n",
    "if __name__ == '__main__':\n",
    "    app.run(debug=True)"
   ]
  },
  {
   "cell_type": "code",
   "execution_count": 79,
   "metadata": {},
   "outputs": [
    {
     "name": "stderr",
     "output_type": "stream",
     "text": [
      " * Restarting with stat\n"
     ]
    },
    {
     "ename": "SystemExit",
     "evalue": "1",
     "output_type": "error",
     "traceback": [
      "An exception has occurred, use %tb to see the full traceback.\n",
      "\u001b[1;31mSystemExit\u001b[0m\u001b[1;31m:\u001b[0m 1\n"
     ]
    },
    {
     "name": "stderr",
     "output_type": "stream",
     "text": [
      "C:\\Users\\PC\\Anaconda3\\lib\\site-packages\\IPython\\core\\interactiveshell.py:2870: UserWarning: To exit: use 'exit', 'quit', or Ctrl-D.\n",
      "  warn(\"To exit: use 'exit', 'quit', or Ctrl-D.\", stacklevel=1)\n"
     ]
    }
   ],
   "source": [
    "# Return stations information\n",
    "\n",
    "@app.route(\"/api/v1.0/stations\")\n",
    "def stations():\n",
    "\n",
    "    stat = session.query(Station).all()\n",
    "    \n",
    "    station_info = []\n",
    "    for looping in stat:\n",
    "        blank_dict = {}\n",
    "        blank_dict[\"Station\"] = looping.station\n",
    "        blank_dict[\"Name\"] = looping.name\n",
    "        blank_dict[\"Latitude\"] = looping.latitude\n",
    "        blank_dict[\"Longitude\"] = looping.longitude\n",
    "        blank_dict[\"Elevation\"] = looping.elevation\n",
    "        station_info.append(blank_dict)\n",
    "    \n",
    "    return jsonify(station_info)\n",
    "\n",
    "if __name__ == '__main__':\n",
    "    app.run(debug=True)"
   ]
  },
  {
   "cell_type": "code",
   "execution_count": 80,
   "metadata": {},
   "outputs": [
    {
     "name": "stderr",
     "output_type": "stream",
     "text": [
      " * Restarting with stat\n"
     ]
    },
    {
     "ename": "SystemExit",
     "evalue": "1",
     "output_type": "error",
     "traceback": [
      "An exception has occurred, use %tb to see the full traceback.\n",
      "\u001b[1;31mSystemExit\u001b[0m\u001b[1;31m:\u001b[0m 1\n"
     ]
    },
    {
     "name": "stderr",
     "output_type": "stream",
     "text": [
      "C:\\Users\\PC\\Anaconda3\\lib\\site-packages\\IPython\\core\\interactiveshell.py:2870: UserWarning: To exit: use 'exit', 'quit', or Ctrl-D.\n",
      "  warn(\"To exit: use 'exit', 'quit', or Ctrl-D.\", stacklevel=1)\n"
     ]
    }
   ],
   "source": [
    "# Return Temperature information\n",
    "\n",
    "@app.route(\"/api/v1.0/tobs\")\n",
    "def tobs():\n",
    "    \n",
    "    query = session.query(Measurement.station, Measurement.date, Measurement.tobs).filter(Measurement.date >= \"2016-01-01\"). \\\n",
    "        filter(Measurement.date < \"2017-01-01\").all()\n",
    "   \n",
    "    Bring = []\n",
    "    for hot in query:\n",
    "        the_heat = {}\n",
    "        the_heat[\"Station ID\"] = hot.station\n",
    "        the_heat[\"Date\"] = hot.date\n",
    "        the_heat[\"Temp Observed\"] = hot.tobs\n",
    "        Bring.append(the_heat)\n",
    "    \n",
    "    return jsonify(Bring)\n",
    "\n",
    "if __name__ == '__main__':\n",
    "    app.run(debug=True)"
   ]
  },
  {
   "cell_type": "code",
   "execution_count": 81,
   "metadata": {},
   "outputs": [
    {
     "name": "stderr",
     "output_type": "stream",
     "text": [
      " * Restarting with stat\n"
     ]
    },
    {
     "ename": "SystemExit",
     "evalue": "1",
     "output_type": "error",
     "traceback": [
      "An exception has occurred, use %tb to see the full traceback.\n",
      "\u001b[1;31mSystemExit\u001b[0m\u001b[1;31m:\u001b[0m 1\n"
     ]
    },
    {
     "name": "stderr",
     "output_type": "stream",
     "text": [
      "C:\\Users\\PC\\Anaconda3\\lib\\site-packages\\IPython\\core\\interactiveshell.py:2870: UserWarning: To exit: use 'exit', 'quit', or Ctrl-D.\n",
      "  warn(\"To exit: use 'exit', 'quit', or Ctrl-D.\", stacklevel=1)\n"
     ]
    }
   ],
   "source": [
    "# Temperature from a start date\n",
    "\n",
    "@app.route(\"/api/v1.0/<start>\")\n",
    "def temps(start='2016-01-01'):\n",
    "    \n",
    "    min_temp = session.query(func.min(Measurement.tobs)).filter(Measurement.date >= start).all()\n",
    "    max_temp = session.query(func.max(Measurement.tobs)).filter(Measurement.date >= start).all()\n",
    "    avg_temp = session.query(func.avg(Measurement.tobs)).filter(Measurement.date >= start).all()\n",
    "    \n",
    "    min_temp_str = str(min_temp[0][0])\n",
    "    max_temp_str = str(max_temp[0][0])\n",
    "    avg_temp_str = str(avg_temp[0][0])\n",
    "    \n",
    "    Temps = [{\n",
    "            'Min Temp': min_temp_str,\n",
    "            'Max Temp': max_temp_str,\n",
    "            'Average Temp': avg_temp_str\n",
    "    }]\n",
    "    \n",
    "    return jsonify(Temps)\n",
    "\n",
    "if __name__ == '__main__':\n",
    "    app.run(debug=True)"
   ]
  },
  {
   "cell_type": "code",
   "execution_count": 83,
   "metadata": {},
   "outputs": [
    {
     "name": "stderr",
     "output_type": "stream",
     "text": [
      " * Restarting with stat\n"
     ]
    },
    {
     "ename": "SystemExit",
     "evalue": "1",
     "output_type": "error",
     "traceback": [
      "An exception has occurred, use %tb to see the full traceback.\n",
      "\u001b[1;31mSystemExit\u001b[0m\u001b[1;31m:\u001b[0m 1\n"
     ]
    },
    {
     "name": "stderr",
     "output_type": "stream",
     "text": [
      "C:\\Users\\PC\\Anaconda3\\lib\\site-packages\\IPython\\core\\interactiveshell.py:2870: UserWarning: To exit: use 'exit', 'quit', or Ctrl-D.\n",
      "  warn(\"To exit: use 'exit', 'quit', or Ctrl-D.\", stacklevel=1)\n"
     ]
    }
   ],
   "source": [
    "# Temperature from a date range\n",
    "\n",
    "@app.route(\"/api/v1.0/<start>/<end>\")\n",
    "def temps_range(start='', end=''):\n",
    "    \n",
    "    min_temp = session.query(func.min(Measurement.tobs)).filter(Measurement.date >= start).\\\n",
    "            filter(Measurement.date <= end).all()\n",
    "    max_temp = session.query(func.max(Measurement.tobs)).filter(Measurement.date >= start).\\\n",
    "            filter(Measurement.date <= end).all()\n",
    "    avg_temp = session.query(func.avg(Measurement.tobs)).filter(Measurement.date >= start).\\\n",
    "            filter(Measurement.date <= end).all()\n",
    "    \n",
    "    min_temp_str = str(min_temp[0][0])\n",
    "    max_temp_str = str(max_temp[0][0])\n",
    "    avg_temp_str = str(avg_temp[0][0])\n",
    "    \n",
    "    Temps = [{\n",
    "            'Min Temp': min_temp_str,\n",
    "            'Max Temp': max_temp_str,\n",
    "            'Average Temp': avg_temp_str\n",
    "    }]\n",
    "    \n",
    "    return jsonify(Temps)\n",
    "\n",
    "if __name__ == '__main__':\n",
    "    app.run(debug=True)"
   ]
  }
 ],
 "metadata": {
  "kernelspec": {
   "display_name": "Python 3",
   "language": "python",
   "name": "python3"
  },
  "language_info": {
   "codemirror_mode": {
    "name": "ipython",
    "version": 3
   },
   "file_extension": ".py",
   "mimetype": "text/x-python",
   "name": "python",
   "nbconvert_exporter": "python",
   "pygments_lexer": "ipython3",
   "version": "3.6.3"
  }
 },
 "nbformat": 4,
 "nbformat_minor": 2
}
